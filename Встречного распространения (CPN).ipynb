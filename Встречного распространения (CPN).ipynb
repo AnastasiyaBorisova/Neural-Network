{
  "nbformat": 4,
  "nbformat_minor": 0,
  "metadata": {
    "colab": {
      "provenance": []
    },
    "kernelspec": {
      "name": "python3",
      "display_name": "Python 3"
    },
    "language_info": {
      "name": "python"
    }
  },
  "cells": [
    {
      "cell_type": "markdown",
      "source": [
        "CPN для XOR"
      ],
      "metadata": {
        "id": "xsmE5-CLCiL_"
      }
    },
    {
      "cell_type": "code",
      "execution_count": null,
      "metadata": {
        "colab": {
          "base_uri": "https://localhost:8080/"
        },
        "id": "J4TuzhWYOVTx",
        "outputId": "4e81ff93-9c80-4a7c-9512-d61d42d1ac61"
      },
      "outputs": [
        {
          "output_type": "stream",
          "name": "stdout",
          "text": [
            "О - ожидаемое значение\n",
            "П - полученное значение\n",
            "epoch 0\n",
            "О: 0\n",
            "П: 0\n",
            "О: 1\n",
            "П: 0\n",
            "О: 1\n",
            "П: 0\n",
            "О: 0\n",
            "П: 0\n",
            "Процент совпадений: 50%\n",
            "epoch 1\n",
            "О: 0\n",
            "П: 0\n",
            "О: 1\n",
            "П: 0\n",
            "О: 1\n",
            "П: 0\n",
            "О: 0\n",
            "П: 0\n",
            "Процент совпадений: 50%\n",
            "epoch 2\n",
            "О: 0\n",
            "П: 0\n",
            "О: 1\n",
            "П: 1\n",
            "О: 1\n",
            "П: 1\n",
            "О: 0\n",
            "П: 0\n",
            "Процент совпадений: 100%\n"
          ]
        }
      ],
      "source": [
        "import math\n",
        "import numpy as np\n",
        "\n",
        "class CPN:\n",
        "    def __init__(self, x, y, k_neurons, r_neurons):\n",
        "        self.x = x\n",
        "        self.y = y\n",
        "        self.kohonen_weights = self.weights(k_neurons, len(x[0]))\n",
        "        self.grossberg_weights = self.weights(r_neurons, len(x[0]))\n",
        "\n",
        "    def weights(self, num_neurons, length): #Случайная инициализация весов\n",
        "        result = np.asarray(np.random.rand(num_neurons, length))\n",
        "        if len(result) == 1:\n",
        "            return result[0]\n",
        "        return result\n",
        "\n",
        "    def euclid(self, w_vector, x_vector): #Евклидово расстояние\n",
        "        return sum([((w - x) ** 2) for w, x in zip(w_vector, x_vector)])\n",
        "\n",
        "    def sum_out(self, k_vector, w_vector): #Сумма выхода Кохонена на веса Гроссберга\n",
        "        return sum([k * w for k, w in zip(k_vector, w_vector)])\n",
        "\n",
        "    def new_k_weights(self, x_vector, w_vector, learning_rate=0.7): #Обновление весов слоя Кохонена\n",
        "        weights = []\n",
        "        for x, w in zip(x_vector, w_vector):\n",
        "            w_new = w + learning_rate * (x - w)\n",
        "            weights.append(w_new)\n",
        "        return np.asarray(weights)\n",
        "\n",
        "    def new_g_weights(self, y_value, w_value, learning_rate=0.1, k=1): #Обновление весов слоя Гроссберга\n",
        "        w_new = w_value + learning_rate * (y_value - w_value) * k\n",
        "        return w_new\n",
        "\n",
        "    def teach(self, lr_k, lr_g, epochs):\n",
        "        for epoch in range(epochs):\n",
        "            print(f'epoch {epoch}')\n",
        "            matching = 0 #Количество совпадений\n",
        "            for x_vector, y_value in zip(self.x, self.y):\n",
        "                k_neurons = []\n",
        "                for w_iter in range(len(self.kohonen_weights)):\n",
        "                    k_neurons.append(self.euclid(x_vector, self.kohonen_weights[w_iter])) #Расстояние между вектором и весами\n",
        "                min_dist = min(k_neurons) #Минимальное расстояние\n",
        "                index = k_neurons.index(min_dist)\n",
        "                for i in range(len(k_neurons)): #Наименьшая дистанция - 1, остальные 0\n",
        "                    if i == index:\n",
        "                        k_neurons[i] = 1\n",
        "                    else:\n",
        "                        k_neurons[i] = 0\n",
        "                self.kohonen_weights[index] = self.new_k_weights(x_vector, self.kohonen_weights[index], learning_rate=lr_k) #Пересчитываем веса\n",
        "                self.grossberg_weights[index] = self.new_g_weights(y_value, self.grossberg_weights[index], learning_rate=lr_g) #Пересчитываем веса\n",
        "                r_neuron_out = int(round(self.sum_out(k_neurons, self.grossberg_weights)))\n",
        "                if y_value == r_neuron_out:\n",
        "                  matching += 1\n",
        "                print(f'О: {y_value}')\n",
        "                print(f'П: {r_neuron_out}')\n",
        "            print(f'Процент совпадений: {int(matching / len(self.y) * 100)}%')\n",
        "            if int(matching / len(self.y) * 100) == 100: #Процент совпадений\n",
        "              break\n",
        "\n",
        "x = [[0,0], [0,1], [1,0],[1,1]]\n",
        "y = [0, 1, 1, 0]\n",
        "print('О - ожидаемое значение')\n",
        "print('П - полученное значение')\n",
        "net = CPN(x, y, k_neurons=2, r_neurons=1)\n",
        "net.teach(lr_k=0.6, lr_g=0.2, epochs=20)"
      ]
    }
  ]
}